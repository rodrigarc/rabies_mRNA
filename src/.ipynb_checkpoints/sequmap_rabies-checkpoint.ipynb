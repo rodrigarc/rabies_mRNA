{
 "cells": [
  {
   "cell_type": "markdown",
   "id": "02ddbac9-191d-42c3-95ab-fe73c2546028",
   "metadata": {},
   "source": [
    "## Testing SeqUMAP for rabies sequences"
   ]
  },
  {
   "cell_type": "code",
   "execution_count": 113,
   "id": "9e9eef03-c8b8-4f60-8865-30689dc958b9",
   "metadata": {},
   "outputs": [],
   "source": [
    "from Bio import SeqIO\n",
    "import pandas as pd\n",
    "import numpy as np\n",
    "from sequmap import sequmap, NT_DICT, AA_DICT\n",
    "import matplotlib.pyplot as plt\n",
    "import seaborn as sns\n",
    "import re\n",
    "from Bio.SeqIO.FastaIO import SimpleFastaParser"
   ]
  },
  {
   "cell_type": "code",
   "execution_count": 132,
   "id": "77b333f4-a988-43ba-b0ea-79ae3e0f7090",
   "metadata": {},
   "outputs": [
    {
     "name": "stderr",
     "output_type": "stream",
     "text": [
      "/Users/rodrigoarcoverde/opt/anaconda3/envs/sequmap/lib/python3.6/site-packages/umap/umap_.py:1728: UserWarning: custom distance metric does not return gradient; inverse_transform will be unavailable. To enable using inverse_transform method method, define a distance function that returns a tuple of (distance [float], gradient [np.array])\n",
      "  \"custom distance metric does not return gradient; inverse_transform will be unavailable. \"\n"
     ]
    }
   ],
   "source": [
    "df_rabies = pd.read_csv('../results/2022-02-07/filtered_combined.csv')\n",
    "proj_aa = sequmap(df_rabies['CDR3_aa'], 2, lookup_dic = AA_DICT, n_neighbors = 30, min_dist = 0.001)\n",
    "\n"
   ]
  },
  {
   "cell_type": "code",
   "execution_count": 137,
   "id": "d705c02a-77a2-4169-a6db-e921d972aee9",
   "metadata": {},
   "outputs": [],
   "source": [
    "df_rabies['UMAP1_aa'] = proj_aa[:,0]\n",
    "df_rabies['UMAP2_aa'] = proj_aa[:,1]"
   ]
  },
  {
   "cell_type": "code",
   "execution_count": 138,
   "id": "13ac9bf9-09ec-4452-bf84-29866a1b805b",
   "metadata": {},
   "outputs": [
    {
     "data": {
      "text/plain": [
       "<seaborn.axisgrid.FacetGrid at 0x7fd92c4a9f28>"
      ]
     },
     "execution_count": 138,
     "metadata": {},
     "output_type": "execute_result"
    },
    {
     "data": {
      "image/png": "[encoded data removed]",
      "text/plain": [
       "<Figure size 436.25x360 with 1 Axes>"
      ]
     },
     "metadata": {
      "needs_background": "light"
     },
     "output_type": "display_data"
    }
   ],
   "source": [
    "sns.lmplot(x='UMAP1_aa', y='UMAP2_aa', data=df_rabies, hue='.id', \n",
    "           fit_reg=False, scatter_kws={\"s\": 4,'alpha':0.4})"
   ]
  }
 ],
 "metadata": {
  "kernelspec": {
   "display_name": "sequmap",
   "language": "python",
   "name": "sequmap"
  },
  "language_info": {
   "codemirror_mode": {
    "name": "ipython",
    "version": 3
   },
   "file_extension": ".py",
   "mimetype": "text/x-python",
   "name": "python",
   "nbconvert_exporter": "python",
   "pygments_lexer": "ipython3",
   "version": "3.6.13"
  }
 },
 "nbformat": 4,
 "nbformat_minor": 5
}
