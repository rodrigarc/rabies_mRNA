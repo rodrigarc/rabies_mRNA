{
 "cells": [
  {
   "cell_type": "markdown",
   "id": "ae1edd8a-41ed-4b4f-9f54-34afb8013b6b",
   "metadata": {},
   "source": [
    "## Testing SeqUMAP for rabies sequences"
   ]
  },
  {
   "cell_type": "code",
   "execution_count": 4,
   "id": "63f0b10e-ecd2-4028-9a1e-6bfef7bd8d65",
   "metadata": {},
   "outputs": [],
   "source": [
    "using PyPlot\n",
    "using SeqUMAP\n",
    "using Random\n",
    "using CSV\n",
    "using DataFrames"
   ]
  },
  {
   "cell_type": "code",
   "execution_count": 6,
   "id": "a50d6e79-271c-4e52-a5cb-ad30843da35e",
   "metadata": {},
   "outputs": [],
   "source": [
    "metadata = CSV.read(\"../data/rabies_sequences/rabies_VH-sequence-database_AC.csv\", DataFrame);\n",
    "seqnames, seqs = read_fasta(\"../results/2021-11-03/aa_all.fasta\");"
   ]
  },
  {
   "cell_type": "code",
   "execution_count": 7,
   "id": "b9ece64a-49bf-4cb3-ab5b-1732f8e51b6b",
   "metadata": {},
   "outputs": [],
   "source": [
    "seqs_clean = clean_nt.(seqs; to_strip = ['-']);"
   ]
  },
  {
   "cell_type": "code",
   "execution_count": 94,
   "id": "491627ee-e885-4dea-8f1c-8d5f73263001",
   "metadata": {},
   "outputs": [
    {
     "data": {
      "image/png": "[encoded data removed]",
      "text/plain": [
       "Figure(PyObject <Figure size 640x480 with 1 Axes>)"
      ]
     },
     "metadata": {},
     "output_type": "display_data"
    },
    {
     "name": "stdout",
     "output_type": "stream",
     "text": [
      "  0.504490 seconds (73.13 k allocations: 209.369 MiB, 5.99% gc time)\n"
     ]
    },
    {
     "data": {
      "text/plain": [
       "PyObject <matplotlib.collections.PathCollection object at 0x1a77bd850>"
      ]
     },
     "execution_count": 94,
     "metadata": {},
     "output_type": "execute_result"
    }
   ],
   "source": [
    "@time begin\n",
    "    Random.seed!(1234)\n",
    "    \n",
    "    proj = sequmap(seqs_clean, 2; \n",
    "        k = 3, lookup_dic = AA_DICT, pca = true, pca_maxoutdim = 15, \n",
    "        n_neighbors = 12, min_dist = 0.7, repulsion_strength = 0.1, umap_kwargs = Pair{Symbol,Any}[]\n",
    "        )\n",
    "\n",
    "    fig, ax = subplots()\n",
    "    ax.scatter(proj[1, :], proj[2, :]; s = 2.0, linewidth = 0)\n",
    "end"
   ]
  },
  {
   "cell_type": "code",
   "execution_count": 93,
   "id": "93ed9675-b07c-4974-9f1f-352c6e850932",
   "metadata": {},
   "outputs": [
    {
     "ename": "LoadError",
     "evalue": "UndefVarError: medadata not defined",
     "output_type": "error",
     "traceback": [
      "UndefVarError: medadata not defined",
      "",
      "Stacktrace:",
      " [1] top-level scope",
      "   @ In[93]:3",
      " [2] eval",
      "   @ ./boot.jl:373 [inlined]",
      " [3] include_string(mapexpr::typeof(REPL.softscope), mod::Module, code::String, filename::String)",
      "   @ Base ./loading.jl:1196"
     ]
    }
   ],
   "source": [
    "#metadata[(medadata[:,Well.==missing])]\n",
    "\n",
    "medadata[:\"Well\".==missing,]\n",
    "#df[(df[:A].<5)&(df[:B].==\"c\"),:]\n",
    "#metadata[(metadata[1]),:]"
   ]
  }
 ],
 "metadata": {
  "kernelspec": {
   "display_name": "Julia 1.7.2",
   "language": "julia",
   "name": "julia-1.7"
  },
  "language_info": {
   "file_extension": ".jl",
   "mimetype": "application/julia",
   "name": "julia",
   "version": "1.7.2"
  }
 },
 "nbformat": 4,
 "nbformat_minor": 5
}
